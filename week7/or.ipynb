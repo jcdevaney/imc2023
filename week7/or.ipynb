{
  "cells": [
    {
      "cell_type": "markdown",
      "metadata": {
        "id": "view-in-github",
        "colab_type": "text"
      },
      "source": [
        "<a href=\"https://colab.research.google.com/github/jcdevaney/imc2023/blob/main/week7/or.ipynb\" target=\"_parent\"><img src=\"https://colab.research.google.com/assets/colab-badge.svg\" alt=\"Open In Colab\"/></a>"
      ]
    },
    {
      "cell_type": "code",
      "execution_count": 1,
      "metadata": {
        "id": "d5rfK0nuE-yC"
      },
      "outputs": [],
      "source": [
        "def functionWithOptions(text):\n",
        "    if text == \"hi\" or text == \"hello\":\n",
        "        print(\"Greetings\")\n",
        "    elif text == \"bye\" or text == \"goodbye\":\n",
        "        print(\"See you later\")\n",
        "    else:\n",
        "        print(text)"
      ]
    },
    {
      "cell_type": "code",
      "execution_count": 2,
      "metadata": {
        "colab": {
          "base_uri": "https://localhost:8080/"
        },
        "id": "mfagnnYIE-yD",
        "outputId": "7173235b-91ff-49dc-a72f-9df4dbe0d5fa"
      },
      "outputs": [
        {
          "output_type": "stream",
          "name": "stdout",
          "text": [
            "Greetings\n"
          ]
        }
      ],
      "source": [
        "functionWithOptions('hi')"
      ]
    },
    {
      "cell_type": "code",
      "execution_count": 3,
      "metadata": {
        "colab": {
          "base_uri": "https://localhost:8080/"
        },
        "id": "j-ZhmQbME-yE",
        "outputId": "18aded13-d610-4c7b-870c-3fb7926d56fa"
      },
      "outputs": [
        {
          "output_type": "stream",
          "name": "stdout",
          "text": [
            "Hi\n"
          ]
        }
      ],
      "source": [
        "# note that it is case sensitive\n",
        "functionWithOptions('Hi')"
      ]
    },
    {
      "cell_type": "code",
      "execution_count": 4,
      "metadata": {
        "colab": {
          "base_uri": "https://localhost:8080/"
        },
        "id": "tCG9CqHNE-yE",
        "outputId": "a793577a-346a-49e0-f3ad-f88016558395"
      },
      "outputs": [
        {
          "output_type": "stream",
          "name": "stdout",
          "text": [
            "Greetings\n"
          ]
        }
      ],
      "source": [
        "functionWithOptions('hello')"
      ]
    },
    {
      "cell_type": "code",
      "execution_count": 5,
      "metadata": {
        "colab": {
          "base_uri": "https://localhost:8080/"
        },
        "id": "g_O0p3b4E-yE",
        "outputId": "848451ee-ec3d-4d68-feec-245180cabe31"
      },
      "outputs": [
        {
          "output_type": "stream",
          "name": "stdout",
          "text": [
            "See you later\n"
          ]
        }
      ],
      "source": [
        "functionWithOptions('bye')"
      ]
    },
    {
      "cell_type": "code",
      "execution_count": 6,
      "metadata": {
        "colab": {
          "base_uri": "https://localhost:8080/"
        },
        "id": "EucIKGccE-yF",
        "outputId": "b9e71ff9-efb8-4e7a-d47e-5a28ae8a404d"
      },
      "outputs": [
        {
          "output_type": "stream",
          "name": "stdout",
          "text": [
            "See you later\n"
          ]
        }
      ],
      "source": [
        "functionWithOptions('goodbye')"
      ]
    },
    {
      "cell_type": "code",
      "execution_count": 7,
      "metadata": {
        "colab": {
          "base_uri": "https://localhost:8080/"
        },
        "id": "gkxKFjTmE-yF",
        "outputId": "70f79f75-de9e-4cf0-fe35-ed936833f9d9"
      },
      "outputs": [
        {
          "output_type": "stream",
          "name": "stdout",
          "text": [
            "Something else\n"
          ]
        }
      ],
      "source": [
        "functionWithOptions('Something else')"
      ]
    }
  ],
  "metadata": {
    "kernelspec": {
      "display_name": "Python 3",
      "language": "python",
      "name": "python3"
    },
    "language_info": {
      "codemirror_mode": {
        "name": "ipython",
        "version": 3
      },
      "file_extension": ".py",
      "mimetype": "text/x-python",
      "name": "python",
      "nbconvert_exporter": "python",
      "pygments_lexer": "ipython3",
      "version": "3.6.4"
    },
    "colab": {
      "provenance": [],
      "include_colab_link": true
    }
  },
  "nbformat": 4,
  "nbformat_minor": 0
}