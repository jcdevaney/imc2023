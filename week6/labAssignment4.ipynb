{
  "nbformat": 4,
  "nbformat_minor": 0,
  "metadata": {
    "colab": {
      "provenance": [],
      "authorship_tag": "ABX9TyNV5XU2Q7CEbJZoY8QK1HcL",
      "include_colab_link": true
    },
    "kernelspec": {
      "name": "python3",
      "display_name": "Python 3"
    },
    "language_info": {
      "name": "python"
    }
  },
  "cells": [
    {
      "cell_type": "markdown",
      "metadata": {
        "id": "view-in-github",
        "colab_type": "text"
      },
      "source": [
        "<a href=\"https://colab.research.google.com/github/jcdevaney/imc2023/blob/main/week6/labAssignment4.ipynb\" target=\"_parent\"><img src=\"https://colab.research.google.com/assets/colab-badge.svg\" alt=\"Open In Colab\"/></a>"
      ]
    },
    {
      "cell_type": "code",
      "execution_count": 5,
      "metadata": {
        "id": "MIwOrFnLQsi7"
      },
      "outputs": [],
      "source": [
        "import numpy as np\n",
        "import matplotlib.pyplot as plt\n",
        "import librosa\n",
        "import librosa.display\n",
        "import IPython.display"
      ]
    },
    {
      "cell_type": "code",
      "source": [
        "def plotAudio2(sig,sampleRate,title):\n",
        "    \n",
        "    # this version expects the audio file to have already been opened by librosa\n",
        "    \n",
        "    # Adjust the x-axis to represent time\n",
        "    time=np.arange(0,sig.shape[0])/sr\n",
        "    \n",
        "    # Scale the y-axis to represent amplitude from -1 to 1\n",
        "    excursion=max(abs(sig))\n",
        "    sigNew = sig / excursion\n",
        "    \n",
        "    # Label the x and y axes with variables\n",
        "    xlabel = 'Time (seconds)'\n",
        "    ylabel = 'Amplitude'\n",
        "\n",
        "    # Plot the signal using the x and y axis variables    \n",
        "    plt.plot(time,sigNew)\n",
        "    plt.xlabel(xlabel)\n",
        "    plt.ylabel(ylabel)\n",
        "    plt.title(title)\n",
        "    plt.show()"
      ],
      "metadata": {
        "id": "UhHY5gfiRIDf"
      },
      "execution_count": 6,
      "outputs": []
    },
    {
      "cell_type": "code",
      "source": [
        "def plotAudioFreqDomain():\n",
        "    \n",
        "    # from Assignment 3"
      ],
      "metadata": {
        "id": "da2LkB5ORI3G"
      },
      "execution_count": 7,
      "outputs": []
    },
    {
      "cell_type": "code",
      "source": [
        "def additiveSynthesis(samplingRate,frequency,numHarmonics,seqHarm,ampExponent):\n",
        "\n",
        "    # generate list of harmonics\n",
        "    harmonics = np.arange(1,numHarmonics+1,seqHarm)\n",
        "    print(harmonics)\n",
        "\n",
        "    # create a time series from 0 to 1 the inputted length    \n",
        "    timeSeries = np.linspace(0, 1, samplingRate)\n",
        "    \n",
        "    # create a cosine wave for the fundamental    \n",
        "    signal = np.cos(2.0 * np.pi * frequency * timeSeries)\n",
        "\n",
        "    # add harmonics based on the those specified in the variable 'harmonics'\n",
        "    for harm in harmonics:\n",
        "        signal = signal + np.cos(2.0 * np.pi * frequency * harm * timeSeries)/harm**ampExponent     \n",
        "    \n",
        "    # scale the signal to between -1 and 1\n",
        "    excursion=max(abs(signal))\n",
        "    signal = signal / excursion\n",
        "    \n",
        "    # plot signal\n",
        "    plt.plot(timeSeries,signal)\n",
        "    plt.xlabel('Time (Sec)')\n",
        "    plt.ylabel('Amplitude')\n",
        "    plt.title('Additive Synthesis')\n",
        "    plt.plot\n",
        "        \n",
        "    return signal"
      ],
      "metadata": {
        "id": "QBLS6mXhRVsB"
      },
      "execution_count": 18,
      "outputs": []
    },
    {
      "cell_type": "code",
      "source": [
        "def makeWaveforms(frequency,samplingRate,numHarmonics,waveType):\n",
        "    # use an if/elif/else statement to set up the parameters for \n",
        "    # the different type of waveforms based on the code in \n",
        "    # additiveSynthesis.ipynb\n",
        "    # if, elif (else if) and else can be used to evaluate the contents of a variable \n",
        "    if waveType == 'sawtooth':\n",
        "        seqHarm = 1\n",
        "        ampExponent = 1\n",
        "    elif waveType == 'square': \n",
        "        seqHarm = 2\n",
        "        ampExponent = 1\n",
        "    elif waveType == 'triangle':\n",
        "        seqHarm = 2\n",
        "        ampExponent = 2\n",
        "    else: \n",
        "        numHarmonics = 1\n",
        "        seqHarm = 1\n",
        "        ampExponent = 1\n",
        "\n",
        "    # call additiveSynthesis() to generate a waveform\n",
        "    signal = additiveSynthesis(samplingRate,frequency,numHarmonics,seqHarm,ampExponent)\n",
        "\n",
        "    # return the generated waveform (signal)\n",
        "\n"
      ],
      "metadata": {
        "id": "Xg02ng-gWYQy"
      },
      "execution_count": 13,
      "outputs": []
    },
    {
      "cell_type": "code",
      "source": [
        "def visualizeWaveforms(frequency, samplingRate, numHarmonics, waveType): \n",
        "  # call makeWaveform() \n",
        "  # test whether makeWaveforms() runs without error before you try plotting anything\n",
        "\n",
        "  # call plotAudio3()\n",
        "\n",
        "  # call plotAudioFreqDomain()\n",
        "\n",
        "  # return the output of makeWaveform()"
      ],
      "metadata": {
        "id": "SunRmpf6Wn63"
      },
      "execution_count": null,
      "outputs": []
    },
    {
      "cell_type": "code",
      "source": [
        "frequency = 100\n",
        "samplingRate = 44100\n",
        "numHarmonics = 100\n",
        "waveType = 'sine'\n",
        "winSize = 1024\n",
        "specType = 'log'\n",
        "\n",
        "#visualizeWaveforms()\n",
        "#IPython.display.Audio()"
      ],
      "metadata": {
        "id": "MBNM9MMwSV2r"
      },
      "execution_count": 14,
      "outputs": []
    },
    {
      "cell_type": "code",
      "source": [
        "frequency = 100\n",
        "samplingRate = 44100\n",
        "numHarmonics = 100\n",
        "waveType = 'sawtooth'\n",
        "winSize = 1024\n",
        "specType = 'log'\n",
        "\n",
        "#visualizeWaveforms()\n",
        "#IPython.display.Audio()"
      ],
      "metadata": {
        "id": "GKWxd4dHWG_B"
      },
      "execution_count": 15,
      "outputs": []
    },
    {
      "cell_type": "code",
      "source": [
        "frequency = 100\n",
        "samplingRate = 44100\n",
        "numHarmonics = 100\n",
        "waveType = 'triangle'\n",
        "winSize = 1024\n",
        "specType = 'log'\n",
        "\n",
        "#visualizeWaveforms()\n",
        "#IPython.display.Audio()"
      ],
      "metadata": {
        "id": "goh3AlgaWLMq"
      },
      "execution_count": 16,
      "outputs": []
    },
    {
      "cell_type": "code",
      "source": [
        "frequency = 100\n",
        "samplingRate = 44100\n",
        "numHarmonics = 100\n",
        "waveType = 'square'\n",
        "winSize = 1024\n",
        "specType = 'log'\n",
        "\n",
        "#visualizeWaveforms()\n",
        "#IPython.display.Audio()"
      ],
      "metadata": {
        "id": "GB4BGoA3WQhv"
      },
      "execution_count": 17,
      "outputs": []
    }
  ]
}