{
  "nbformat": 4,
  "nbformat_minor": 0,
  "metadata": {
    "colab": {
      "provenance": [],
      "collapsed_sections": [
        "UgSwSiyK1nW6",
        "x1QAim5I2I-g",
        "2D7hNTPb2MPy"
      ],
      "authorship_tag": "ABX9TyPwuoct+KYaT0ajyXYkKBPL",
      "include_colab_link": true
    },
    "kernelspec": {
      "name": "python3",
      "display_name": "Python 3"
    },
    "language_info": {
      "name": "python"
    }
  },
  "cells": [
    {
      "cell_type": "markdown",
      "metadata": {
        "id": "view-in-github",
        "colab_type": "text"
      },
      "source": [
        "<a href=\"https://colab.research.google.com/github/jcdevaney/imc2023/blob/main/week1/variablesLibraries.ipynb\" target=\"_parent\"><img src=\"https://colab.research.google.com/assets/colab-badge.svg\" alt=\"Open In Colab\"/></a>"
      ]
    },
    {
      "cell_type": "markdown",
      "source": [
        "# Variables"
      ],
      "metadata": {
        "id": "sRDbCDkX195H"
      }
    },
    {
      "cell_type": "markdown",
      "source": [
        "## Example Code"
      ],
      "metadata": {
        "id": "UgSwSiyK1nW6"
      }
    },
    {
      "cell_type": "code",
      "execution_count": 4,
      "metadata": {
        "id": "DOF2qPUzf1o9"
      },
      "outputs": [],
      "source": [
        "fundamental = 55"
      ]
    },
    {
      "cell_type": "code",
      "source": [
        "print(fundamental)"
      ],
      "metadata": {
        "colab": {
          "base_uri": "https://localhost:8080/"
        },
        "id": "DA-nvgnc1ZIU",
        "outputId": "aa1010e2-73da-44b3-b582-f754ddb5f0df"
      },
      "execution_count": 5,
      "outputs": [
        {
          "output_type": "stream",
          "name": "stdout",
          "text": [
            "55\n"
          ]
        }
      ]
    },
    {
      "cell_type": "code",
      "source": [
        "firstPartial = 55 * 2\n",
        "print(firstPartial)"
      ],
      "metadata": {
        "colab": {
          "base_uri": "https://localhost:8080/"
        },
        "id": "hOqDPDxE1a48",
        "outputId": "319bfe98-21c3-4983-a2ac-04b1e3d8b261"
      },
      "execution_count": 6,
      "outputs": [
        {
          "output_type": "stream",
          "name": "stdout",
          "text": [
            "110\n"
          ]
        }
      ]
    },
    {
      "cell_type": "markdown",
      "source": [
        "## Exercise: Calculate the values of the partials 2 through 6 above 55 Hz "
      ],
      "metadata": {
        "id": "3oqZxry-1yQg"
      }
    },
    {
      "cell_type": "markdown",
      "source": [
        "# Libraries"
      ],
      "metadata": {
        "id": "UVPzEmTQ2FOb"
      }
    },
    {
      "cell_type": "markdown",
      "source": [
        "## Example Code"
      ],
      "metadata": {
        "id": "x1QAim5I2I-g"
      }
    },
    {
      "cell_type": "code",
      "source": [
        "import math\n",
        "cents = math.log(3/2) * 1200 / math.log(2)\n",
        "print(cents)"
      ],
      "metadata": {
        "colab": {
          "base_uri": "https://localhost:8080/"
        },
        "id": "bzfqHhwG1d95",
        "outputId": "c3840d62-8317-4cff-8cc2-a8e2d2ae454b"
      },
      "execution_count": null,
      "outputs": [
        {
          "output_type": "stream",
          "name": "stdout",
          "text": [
            "701.9550008653874\n"
          ]
        }
      ]
    },
    {
      "cell_type": "code",
      "source": [
        "cents = math.log(165/110) * 1200 / math.log(2)\n",
        "print(cents)"
      ],
      "metadata": {
        "colab": {
          "base_uri": "https://localhost:8080/"
        },
        "id": "ZWYvwyBv2hB-",
        "outputId": "deb8a745-d01e-43b1-8bc1-9094e61804cf"
      },
      "execution_count": null,
      "outputs": [
        {
          "output_type": "stream",
          "name": "stdout",
          "text": [
            "701.9550008653874\n"
          ]
        }
      ]
    },
    {
      "cell_type": "markdown",
      "source": [
        "## Exercise: Calculate the difference in cents between partials 2 through 6 above 55 Hz"
      ],
      "metadata": {
        "id": "2D7hNTPb2MPy"
      }
    },
    {
      "cell_type": "code",
      "source": [],
      "metadata": {
        "id": "VS7-hgqz1w5B"
      },
      "execution_count": null,
      "outputs": []
    }
  ]
}