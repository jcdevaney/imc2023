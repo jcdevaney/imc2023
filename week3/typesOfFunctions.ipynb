{
  "cells": [
    {
      "cell_type": "markdown",
      "metadata": {
        "id": "view-in-github",
        "colab_type": "text"
      },
      "source": [
        "<a href=\"https://colab.research.google.com/github/jcdevaney/imc2023/blob/main/week3/typesOfFunctions.ipynb\" target=\"_parent\"><img src=\"https://colab.research.google.com/assets/colab-badge.svg\" alt=\"Open In Colab\"/></a>"
      ]
    },
    {
      "cell_type": "markdown",
      "source": [
        "# Types of Functions"
      ],
      "metadata": {
        "id": "D0IYBLyY_mJu"
      }
    },
    {
      "cell_type": "code",
      "execution_count": null,
      "metadata": {
        "colab": {
          "base_uri": "https://localhost:8080/"
        },
        "id": "Hmo8TKSy_k41",
        "outputId": "bed99ed1-a370-4eb7-dcf0-83b04242ce31"
      },
      "outputs": [
        {
          "output_type": "stream",
          "name": "stdout",
          "text": [
            "Cloning into 'imc2023'...\n",
            "remote: Enumerating objects: 78, done.\u001b[K\n",
            "remote: Counting objects: 100% (78/78), done.\u001b[K\n",
            "remote: Compressing objects: 100% (74/74), done.\u001b[K\n",
            "remote: Total 78 (delta 30), reused 14 (delta 1), pack-reused 0\u001b[K\n",
            "Unpacking objects: 100% (78/78), 5.83 MiB | 6.40 MiB/s, done.\n"
          ]
        }
      ],
      "source": [
        "# create a string\n",
        "!git clone https://github.com/jcdevaney/imc2023.git\n",
        "filename = 'imc2023/audioFiles/avm.wav'"
      ]
    },
    {
      "cell_type": "markdown",
      "source": [
        "## Example of a Built-in Function"
      ],
      "metadata": {
        "id": "eY9KIFBW_uoA"
      }
    },
    {
      "cell_type": "code",
      "execution_count": null,
      "metadata": {
        "colab": {
          "base_uri": "https://localhost:8080/"
        },
        "id": "PR5GDMWY_k43",
        "outputId": "bee060cd-43e9-41c1-9cc5-a1d92f7d45e5"
      },
      "outputs": [
        {
          "output_type": "stream",
          "name": "stdout",
          "text": [
            "imc2023/audioFiles/avm.wav\n"
          ]
        }
      ],
      "source": [
        "# print string\n",
        "print(filename)"
      ]
    },
    {
      "cell_type": "markdown",
      "source": [
        "## Example of an Imported Function"
      ],
      "metadata": {
        "id": "jAgYSIlA_sCH"
      }
    },
    {
      "cell_type": "code",
      "execution_count": null,
      "metadata": {
        "id": "TpkhXzDH_k44"
      },
      "outputs": [],
      "source": [
        "# import a library and use a function from it\n",
        "import librosa\n",
        "sig , sr = librosa.load(filename)"
      ]
    },
    {
      "cell_type": "markdown",
      "source": [
        "## Examples of Built-in Methods"
      ],
      "metadata": {
        "id": "5Ihxgw6Z_21t"
      }
    },
    {
      "cell_type": "code",
      "execution_count": null,
      "metadata": {
        "colab": {
          "base_uri": "https://localhost:8080/",
          "height": 35
        },
        "id": "RPV32yzs_k44",
        "outputId": "f53d0707-dbad-4c92-955f-95d3ad0c5494"
      },
      "outputs": [
        {
          "output_type": "execute_result",
          "data": {
            "text/plain": [
              "'Imc2023/audiofiles/avm.wav'"
            ],
            "application/vnd.google.colaboratory.intrinsic+json": {
              "type": "string"
            }
          },
          "metadata": {},
          "execution_count": 8
        }
      ],
      "source": [
        "# use a built in method of the string object\n",
        "filename.capitalize()"
      ]
    },
    {
      "cell_type": "code",
      "execution_count": null,
      "metadata": {
        "colab": {
          "base_uri": "https://localhost:8080/"
        },
        "id": "UKSOoAgT_k45",
        "outputId": "213c95e7-cfa0-41bf-fb0d-228c43d30036"
      },
      "outputs": [
        {
          "output_type": "execute_result",
          "data": {
            "text/plain": [
              "False"
            ]
          },
          "metadata": {},
          "execution_count": 9
        }
      ],
      "source": [
        "filename.isnumeric()"
      ]
    },
    {
      "cell_type": "code",
      "execution_count": null,
      "metadata": {
        "colab": {
          "base_uri": "https://localhost:8080/",
          "height": 35
        },
        "id": "H_qovfAQ_k45",
        "outputId": "ab367235-fa0e-4ae7-cfc4-e4d3db584f2b"
      },
      "outputs": [
        {
          "output_type": "execute_result",
          "data": {
            "text/plain": [
              "'IMC2023/AUDIOFILES/AVM.WAV'"
            ],
            "application/vnd.google.colaboratory.intrinsic+json": {
              "type": "string"
            }
          },
          "metadata": {},
          "execution_count": 10
        }
      ],
      "source": [
        "filename.upper()"
      ]
    },
    {
      "cell_type": "code",
      "execution_count": null,
      "metadata": {
        "id": "3SM0CMtL_k45"
      },
      "outputs": [],
      "source": []
    }
  ],
  "metadata": {
    "kernelspec": {
      "display_name": "Python 3",
      "language": "python",
      "name": "python3"
    },
    "language_info": {
      "codemirror_mode": {
        "name": "ipython",
        "version": 3
      },
      "file_extension": ".py",
      "mimetype": "text/x-python",
      "name": "python",
      "nbconvert_exporter": "python",
      "pygments_lexer": "ipython3",
      "version": "3.6.4"
    },
    "colab": {
      "provenance": [],
      "include_colab_link": true
    }
  },
  "nbformat": 4,
  "nbformat_minor": 0
}