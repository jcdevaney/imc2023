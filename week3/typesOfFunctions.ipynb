{
  "cells": [
    {
      "cell_type": "markdown",
      "metadata": {
        "id": "view-in-github",
        "colab_type": "text"
      },
      "source": [
        "<a href=\"https://colab.research.google.com/github/jcdevaney/imc2023/blob/main/week3/typesOfFunctions.ipynb\" target=\"_parent\"><img src=\"https://colab.research.google.com/assets/colab-badge.svg\" alt=\"Open In Colab\"/></a>"
      ]
    },
    {
      "cell_type": "markdown",
      "source": [
        "# Types of Functions"
      ],
      "metadata": {
        "id": "D0IYBLyY_mJu"
      }
    },
    {
      "cell_type": "code",
      "execution_count": null,
      "metadata": {
        "id": "Hmo8TKSy_k41"
      },
      "outputs": [],
      "source": [
        "# create a string\n",
        "filename = 'avm.wav'"
      ]
    },
    {
      "cell_type": "markdown",
      "source": [
        "## Example of a Built-in Function"
      ],
      "metadata": {
        "id": "eY9KIFBW_uoA"
      }
    },
    {
      "cell_type": "code",
      "execution_count": null,
      "metadata": {
        "id": "PR5GDMWY_k43",
        "outputId": "99465ca8-c8b4-432d-d2d2-d032a84ca8f0"
      },
      "outputs": [
        {
          "name": "stdout",
          "output_type": "stream",
          "text": [
            "avm.wav\n"
          ]
        }
      ],
      "source": [
        "# print string\n",
        "print(filename)"
      ]
    },
    {
      "cell_type": "markdown",
      "source": [
        "## Example of an Imported Function"
      ],
      "metadata": {
        "id": "jAgYSIlA_sCH"
      }
    },
    {
      "cell_type": "code",
      "execution_count": null,
      "metadata": {
        "id": "TpkhXzDH_k44"
      },
      "outputs": [],
      "source": [
        "# import a library and use a function from it\n",
        "import librosa\n",
        "sig , sr = librosa.load(filename)"
      ]
    },
    {
      "cell_type": "markdown",
      "source": [
        "## Examples of Built-in Methods"
      ],
      "metadata": {
        "id": "5Ihxgw6Z_21t"
      }
    },
    {
      "cell_type": "code",
      "execution_count": null,
      "metadata": {
        "id": "RPV32yzs_k44",
        "outputId": "70fd4c39-e57b-438c-8ec8-4d7f73f00397"
      },
      "outputs": [
        {
          "data": {
            "text/plain": [
              "'Avm.wav'"
            ]
          },
          "execution_count": 4,
          "metadata": {},
          "output_type": "execute_result"
        }
      ],
      "source": [
        "# use a built in method of the string object\n",
        "filename.capitalize()"
      ]
    },
    {
      "cell_type": "code",
      "execution_count": null,
      "metadata": {
        "id": "UKSOoAgT_k45",
        "outputId": "0d131657-8df0-4d7f-dcbe-e5322c21df13"
      },
      "outputs": [
        {
          "data": {
            "text/plain": [
              "False"
            ]
          },
          "execution_count": 5,
          "metadata": {},
          "output_type": "execute_result"
        }
      ],
      "source": [
        "filename.isnumeric()"
      ]
    },
    {
      "cell_type": "code",
      "execution_count": null,
      "metadata": {
        "id": "H_qovfAQ_k45",
        "outputId": "df9c227b-dc48-479c-a222-74c596c462f8"
      },
      "outputs": [
        {
          "data": {
            "text/plain": [
              "'AVM.WAV'"
            ]
          },
          "execution_count": 6,
          "metadata": {},
          "output_type": "execute_result"
        }
      ],
      "source": [
        "filename.upper()"
      ]
    },
    {
      "cell_type": "code",
      "execution_count": null,
      "metadata": {
        "id": "3SM0CMtL_k45"
      },
      "outputs": [],
      "source": []
    }
  ],
  "metadata": {
    "kernelspec": {
      "display_name": "Python 3",
      "language": "python",
      "name": "python3"
    },
    "language_info": {
      "codemirror_mode": {
        "name": "ipython",
        "version": 3
      },
      "file_extension": ".py",
      "mimetype": "text/x-python",
      "name": "python",
      "nbconvert_exporter": "python",
      "pygments_lexer": "ipython3",
      "version": "3.6.4"
    },
    "colab": {
      "provenance": [],
      "include_colab_link": true
    }
  },
  "nbformat": 4,
  "nbformat_minor": 0
}